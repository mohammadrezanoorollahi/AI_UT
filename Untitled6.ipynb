{
 "cells": [
  {
   "cell_type": "code",
   "execution_count": 634,
   "id": "54e9ba7e",
   "metadata": {},
   "outputs": [
    {
     "data": {
      "text/html": [
       "<div>\n",
       "<style scoped>\n",
       "    .dataframe tbody tr th:only-of-type {\n",
       "        vertical-align: middle;\n",
       "    }\n",
       "\n",
       "    .dataframe tbody tr th {\n",
       "        vertical-align: top;\n",
       "    }\n",
       "\n",
       "    .dataframe thead th {\n",
       "        text-align: right;\n",
       "    }\n",
       "</style>\n",
       "<table border=\"1\" class=\"dataframe\">\n",
       "  <thead>\n",
       "    <tr style=\"text-align: right;\">\n",
       "      <th></th>\n",
       "      <th>y</th>\n",
       "      <th>x1</th>\n",
       "      <th>x2</th>\n",
       "    </tr>\n",
       "  </thead>\n",
       "  <tbody>\n",
       "    <tr>\n",
       "      <th>0</th>\n",
       "      <td>15.0</td>\n",
       "      <td>1</td>\n",
       "      <td>180</td>\n",
       "    </tr>\n",
       "    <tr>\n",
       "      <th>1</th>\n",
       "      <td>17.0</td>\n",
       "      <td>1</td>\n",
       "      <td>180</td>\n",
       "    </tr>\n",
       "    <tr>\n",
       "      <th>2</th>\n",
       "      <td>15.5</td>\n",
       "      <td>1</td>\n",
       "      <td>180</td>\n",
       "    </tr>\n",
       "    <tr>\n",
       "      <th>3</th>\n",
       "      <td>16.5</td>\n",
       "      <td>1</td>\n",
       "      <td>180</td>\n",
       "    </tr>\n",
       "    <tr>\n",
       "      <th>4</th>\n",
       "      <td>15.5</td>\n",
       "      <td>1</td>\n",
       "      <td>225</td>\n",
       "    </tr>\n",
       "    <tr>\n",
       "      <th>...</th>\n",
       "      <td>...</td>\n",
       "      <td>...</td>\n",
       "      <td>...</td>\n",
       "    </tr>\n",
       "    <tr>\n",
       "      <th>123</th>\n",
       "      <td>7.6</td>\n",
       "      <td>64</td>\n",
       "      <td>250</td>\n",
       "    </tr>\n",
       "    <tr>\n",
       "      <th>124</th>\n",
       "      <td>1.5</td>\n",
       "      <td>64</td>\n",
       "      <td>275</td>\n",
       "    </tr>\n",
       "    <tr>\n",
       "      <th>125</th>\n",
       "      <td>1.0</td>\n",
       "      <td>64</td>\n",
       "      <td>275</td>\n",
       "    </tr>\n",
       "    <tr>\n",
       "      <th>126</th>\n",
       "      <td>1.2</td>\n",
       "      <td>64</td>\n",
       "      <td>275</td>\n",
       "    </tr>\n",
       "    <tr>\n",
       "      <th>127</th>\n",
       "      <td>1.2</td>\n",
       "      <td>64</td>\n",
       "      <td>275</td>\n",
       "    </tr>\n",
       "  </tbody>\n",
       "</table>\n",
       "<p>128 rows × 3 columns</p>\n",
       "</div>"
      ],
      "text/plain": [
       "        y  x1   x2\n",
       "0    15.0   1  180\n",
       "1    17.0   1  180\n",
       "2    15.5   1  180\n",
       "3    16.5   1  180\n",
       "4    15.5   1  225\n",
       "..    ...  ..  ...\n",
       "123   7.6  64  250\n",
       "124   1.5  64  275\n",
       "125   1.0  64  275\n",
       "126   1.2  64  275\n",
       "127   1.2  64  275\n",
       "\n",
       "[128 rows x 3 columns]"
      ]
     },
     "execution_count": 634,
     "metadata": {},
     "output_type": "execute_result"
    }
   ],
   "source": [
    "import pandas as pd\n",
    "import numpy as np\n",
    "import openpyxl\n",
    "from sklearn.model_selection import cross_val_score, KFold\n",
    "from sklearn.linear_model import LinearRegression\n",
    "from sklearn.svm import SVR\n",
    "from sklearn.metrics import mean_absolute_error, r2_score\n",
    "from sklearn.linear_model import Ridge\n",
    "from sklearn.kernel_ridge import KernelRidge\n",
    "from sklearn.model_selection import cross_validate\n",
    "from sklearn.model_selection import GridSearchCV\n",
    "from sklearn.kernel_ridge import KernelRidge\n",
    "from sklearn.model_selection import train_test_split\n",
    "from sklearn.preprocessing import StandardScaler\n",
    " \n",
    "data=pd.read_excel(\"Performance-Degradation Data Nelson.xlsx\")\n",
    "data"
   ]
  },
  {
   "cell_type": "code",
   "execution_count": 660,
   "id": "4141834f",
   "metadata": {},
   "outputs": [
    {
     "data": {
      "text/html": [
       "<div>\n",
       "<style scoped>\n",
       "    .dataframe tbody tr th:only-of-type {\n",
       "        vertical-align: middle;\n",
       "    }\n",
       "\n",
       "    .dataframe tbody tr th {\n",
       "        vertical-align: top;\n",
       "    }\n",
       "\n",
       "    .dataframe thead th {\n",
       "        text-align: right;\n",
       "    }\n",
       "</style>\n",
       "<table border=\"1\" class=\"dataframe\">\n",
       "  <thead>\n",
       "    <tr style=\"text-align: right;\">\n",
       "      <th></th>\n",
       "      <th>y</th>\n",
       "      <th>x1</th>\n",
       "      <th>x2</th>\n",
       "    </tr>\n",
       "  </thead>\n",
       "  <tbody>\n",
       "    <tr>\n",
       "      <th>0</th>\n",
       "      <td>0.800000</td>\n",
       "      <td>0.0</td>\n",
       "      <td>0.000000</td>\n",
       "    </tr>\n",
       "    <tr>\n",
       "      <th>1</th>\n",
       "      <td>0.914286</td>\n",
       "      <td>0.0</td>\n",
       "      <td>0.000000</td>\n",
       "    </tr>\n",
       "    <tr>\n",
       "      <th>2</th>\n",
       "      <td>0.828571</td>\n",
       "      <td>0.0</td>\n",
       "      <td>0.000000</td>\n",
       "    </tr>\n",
       "    <tr>\n",
       "      <th>3</th>\n",
       "      <td>0.885714</td>\n",
       "      <td>0.0</td>\n",
       "      <td>0.000000</td>\n",
       "    </tr>\n",
       "    <tr>\n",
       "      <th>4</th>\n",
       "      <td>0.828571</td>\n",
       "      <td>0.0</td>\n",
       "      <td>0.473684</td>\n",
       "    </tr>\n",
       "    <tr>\n",
       "      <th>...</th>\n",
       "      <td>...</td>\n",
       "      <td>...</td>\n",
       "      <td>...</td>\n",
       "    </tr>\n",
       "    <tr>\n",
       "      <th>123</th>\n",
       "      <td>0.377143</td>\n",
       "      <td>1.0</td>\n",
       "      <td>0.736842</td>\n",
       "    </tr>\n",
       "    <tr>\n",
       "      <th>124</th>\n",
       "      <td>0.028571</td>\n",
       "      <td>1.0</td>\n",
       "      <td>1.000000</td>\n",
       "    </tr>\n",
       "    <tr>\n",
       "      <th>125</th>\n",
       "      <td>0.000000</td>\n",
       "      <td>1.0</td>\n",
       "      <td>1.000000</td>\n",
       "    </tr>\n",
       "    <tr>\n",
       "      <th>126</th>\n",
       "      <td>0.011429</td>\n",
       "      <td>1.0</td>\n",
       "      <td>1.000000</td>\n",
       "    </tr>\n",
       "    <tr>\n",
       "      <th>127</th>\n",
       "      <td>0.011429</td>\n",
       "      <td>1.0</td>\n",
       "      <td>1.000000</td>\n",
       "    </tr>\n",
       "  </tbody>\n",
       "</table>\n",
       "<p>128 rows × 3 columns</p>\n",
       "</div>"
      ],
      "text/plain": [
       "            y   x1        x2\n",
       "0    0.800000  0.0  0.000000\n",
       "1    0.914286  0.0  0.000000\n",
       "2    0.828571  0.0  0.000000\n",
       "3    0.885714  0.0  0.000000\n",
       "4    0.828571  0.0  0.473684\n",
       "..        ...  ...       ...\n",
       "123  0.377143  1.0  0.736842\n",
       "124  0.028571  1.0  1.000000\n",
       "125  0.000000  1.0  1.000000\n",
       "126  0.011429  1.0  1.000000\n",
       "127  0.011429  1.0  1.000000\n",
       "\n",
       "[128 rows x 3 columns]"
      ]
     },
     "execution_count": 660,
     "metadata": {},
     "output_type": "execute_result"
    }
   ],
   "source": [
    "df = (data- np.min(data, axis=0)) / (np.max(data, axis=0) - np.min(data, axis=0))\n",
    "df"
   ]
  },
  {
   "cell_type": "code",
   "execution_count": 682,
   "id": "b637ab2f",
   "metadata": {},
   "outputs": [],
   "source": [
    "x=df.drop(\"y\",axis=1)\n",
    "y=df[\"y\"]"
   ]
  },
  {
   "cell_type": "code",
   "execution_count": 662,
   "id": "1eb0c9f6",
   "metadata": {},
   "outputs": [],
   "source": [
    "kf=KFold(n_splits=4,shuffle=True)#,random_state=40)\n",
    "kf.get_n_splits(x)\n",
    "for train_index,test_index in kf.split(x):\n",
    "    x_train,x_test=x.iloc[train_index],x.iloc[test_index]\n",
    "    y_train,y_test=y.iloc[train_index],y.iloc[test_index]\n"
   ]
  },
  {
   "cell_type": "code",
   "execution_count": 663,
   "id": "be9c6e45",
   "metadata": {},
   "outputs": [],
   "source": [
    "lr=LinearRegression()\n",
    "lr.fit(x_train,y_train)\n",
    "y_pred=lr.predict(x_test)\n",
    "lr_mae=mean_absolute_error(y_test,y_pred)\n",
    "lr_r2=r2_score(y_test,y_pred)"
   ]
  },
  {
   "cell_type": "code",
   "execution_count": 664,
   "id": "bb9b8ec9",
   "metadata": {},
   "outputs": [],
   "source": [
    "rbf_svr=SVR(kernel=\"rbf\", gamma=\"scale\")\n",
    "rbf_svr.fit(x_train,y_train)\n",
    "y_pred=rbf_svr.predict(x_test)\n",
    "rbf_mae=mean_absolute_error(y_test,y_pred)\n",
    "rbf_r2=r2_score(y_test,y_pred)"
   ]
  },
  {
   "cell_type": "code",
   "execution_count": 665,
   "id": "a41c0791",
   "metadata": {},
   "outputs": [],
   "source": [
    "poly_svr=SVR(kernel=\"poly\",degree=2,gamma=\"scale\")\n",
    "poly_svr.fit(x_train,y_train)\n",
    "y_pred=poly_svr.predict(x_test)\n",
    "poly_mae=mean_absolute_error(y_test,y_pred)\n",
    "poly_r2=r2_score(y_test,y_pred)"
   ]
  },
  {
   "cell_type": "code",
   "execution_count": 666,
   "id": "b135209b",
   "metadata": {},
   "outputs": [],
   "source": [
    "sigmoid_svr=SVR(kernel=\"sigmoid\",gamma=\"scale\")\n",
    "sigmoid_svr.fit(x_train,y_train)\n",
    "y_pred=sigmoid_svr.predict(x_test)\n",
    "sigmoid_mae=mean_absolute_error(y_test,y_pred)\n",
    "sigmoid_r2=r2_score(y_test,y_pred)"
   ]
  },
  {
   "cell_type": "code",
   "execution_count": 667,
   "id": "80448503",
   "metadata": {},
   "outputs": [
    {
     "name": "stdout",
     "output_type": "stream",
     "text": [
      "Liner kernel:\n",
      "MAE= 0.11017239030990045 \tR2 score= 0.7208121652668213\n",
      "RBF kernel:\n",
      "MAE= 0.08127913527504979 \tR2 score= 0.8776463220755908\n",
      "polynomial kernel:\n",
      "MAE= 0.08796467608274762 \tR2 score= 0.8306916740070961\n",
      "sigmoid kernel:\n",
      "MAE= 4.694109311579869 \tR2 score= -555.4301723526665\n"
     ]
    }
   ],
   "source": [
    "print(\"Liner kernel:\\nMAE=\",lr_mae,\"\\tR2 score=\",lr_r2)\n",
    "print(\"RBF kernel:\\nMAE=\",rbf_mae,\"\\tR2 score=\",rbf_r2)\n",
    "print(\"polynomial kernel:\\nMAE=\",poly_mae,\"\\tR2 score=\",poly_r2)\n",
    "print(\"sigmoid kernel:\\nMAE=\",sigmoid_mae,\"\\tR2 score=\",sigmoid_r2)"
   ]
  },
  {
   "cell_type": "code",
   "execution_count": 668,
   "id": "75ec2383",
   "metadata": {},
   "outputs": [],
   "source": [
    "lin_reg=KernelRidge(alpha=1,kernel=\"linear\")\n",
    "lin_scores=cross_validate(lin_reg,x,y,cv=kf,scoring=(\"r2\",\"neg_mean_absolute_error\"))\n",
    "lin_mae=-1* np.mean(lin_scores[\"test_neg_mean_absolute_error\"])\n",
    "lin_r2=np.mean(lin_scores[\"test_r2\"])"
   ]
  },
  {
   "cell_type": "code",
   "execution_count": 669,
   "id": "35d317b2",
   "metadata": {},
   "outputs": [],
   "source": [
    "rbf_reg=KernelRidge(alpha=1,kernel=\"rbf\")\n",
    "rbf_scores=cross_validate(rbf_reg,x,y,cv=kf,scoring=(\"r2\",\"neg_mean_absolute_error\"))\n",
    "rbf_mae=-1* np.mean(rbf_scores[\"test_neg_mean_absolute_error\"])\n",
    "rbf_r2=np.mean(rbf_scores[\"test_r2\"])"
   ]
  },
  {
   "cell_type": "code",
   "execution_count": 670,
   "id": "a0bbcb85",
   "metadata": {},
   "outputs": [],
   "source": [
    "poly2_reg=KernelRidge(alpha=1,kernel=\"polynomial\",degree=2)\n",
    "poly2_scores=cross_validate(poly2_reg,x,y,cv=kf,scoring=(\"r2\",\"neg_mean_absolute_error\"))\n",
    "poly2_mae=-1* np.mean(poly2_scores[\"test_neg_mean_absolute_error\"])\n",
    "poly2_r2=np.mean(poly2_scores[\"test_r2\"])"
   ]
  },
  {
   "cell_type": "code",
   "execution_count": 671,
   "id": "7baa6633",
   "metadata": {},
   "outputs": [],
   "source": [
    "sigmoid_reg=KernelRidge(alpha=1,kernel=\"sigmoid\")\n",
    "sigmoid_scores=cross_validate(sigmoid_reg,x,y,cv=kf,scoring=(\"r2\",\"neg_mean_absolute_error\"))\n",
    "sigmoid_mae=-1* np.mean(sigmoid_scores[\"test_neg_mean_absolute_error\"])\n",
    "sigmoid_r2=np.mean(sigmoid_scores[\"test_r2\"])"
   ]
  },
  {
   "cell_type": "code",
   "execution_count": 672,
   "id": "c8d7d0dc",
   "metadata": {},
   "outputs": [
    {
     "name": "stdout",
     "output_type": "stream",
     "text": [
      "                  Kernel       MAE  R2 Score\n",
      "0                 Linear  0.412022 -3.189194\n",
      "1                    RBF  0.093162  0.755485\n",
      "2  Polynomial (degree=2)  0.090820  0.774677\n",
      "3                Sigmoid  0.151420  0.313233\n"
     ]
    }
   ],
   "source": [
    "results=pd.DataFrame({\"Kernel\":[\"Linear\",\"RBF\",\"Polynomial (degree=2)\",\"Sigmoid\"],\n",
    "                      \"MAE\":[lin_mae,rbf_mae,poly2_mae,sigmoid_mae],\n",
    "                      \"R2 Score\":[lin_r2,rbf_r2,poly2_r2,sigmoid_r2]})\n",
    "print(results)"
   ]
  },
  {
   "cell_type": "code",
   "execution_count": 673,
   "id": "9cf6539b",
   "metadata": {},
   "outputs": [],
   "source": [
    "lin_reg=KernelRidge(alpha=2,kernel=\"linear\")\n",
    "lin_scores=cross_validate(lin_reg,x,y,cv=kf,scoring=(\"r2\",\"neg_mean_absolute_error\"))\n",
    "lin_mae=-1* np.mean(lin_scores[\"test_neg_mean_absolute_error\"])\n",
    "lin_r2=np.mean(lin_scores[\"test_r2\"])"
   ]
  },
  {
   "cell_type": "code",
   "execution_count": 674,
   "id": "cc61bf4f",
   "metadata": {},
   "outputs": [],
   "source": [
    "rbf_reg=KernelRidge(alpha=2,kernel=\"rbf\")\n",
    "rbf_scores=cross_validate(rbf_reg,x,y,cv=kf,scoring=(\"r2\",\"neg_mean_absolute_error\"))\n",
    "rbf_mae=-1* np.mean(rbf_scores[\"test_neg_mean_absolute_error\"])\n",
    "rbf_r2=np.mean(rbf_scores[\"test_r2\"])"
   ]
  },
  {
   "cell_type": "code",
   "execution_count": 675,
   "id": "280c20d4",
   "metadata": {},
   "outputs": [],
   "source": [
    "poly2_reg=KernelRidge(alpha=2,kernel=\"polynomial\",degree=2)\n",
    "poly2_scores=cross_validate(poly2_reg,x,y,cv=kf,scoring=(\"r2\",\"neg_mean_absolute_error\"))\n",
    "poly2_mae=-1* np.mean(poly2_scores[\"test_neg_mean_absolute_error\"])\n",
    "poly2_r2=np.mean(poly2_scores[\"test_r2\"])"
   ]
  },
  {
   "cell_type": "code",
   "execution_count": 676,
   "id": "a8ff4680",
   "metadata": {},
   "outputs": [],
   "source": [
    "sigmoid_reg=KernelRidge(alpha=2,kernel=\"sigmoid\")\n",
    "sigmoid_scores=cross_validate(sigmoid_reg,x,y,cv=kf,scoring=(\"r2\",\"neg_mean_absolute_error\"))\n",
    "sigmoid_mae=-1* np.mean(sigmoid_scores[\"test_neg_mean_absolute_error\"])\n",
    "sigmoid_r2=np.mean(sigmoid_scores[\"test_r2\"])"
   ]
  },
  {
   "cell_type": "code",
   "execution_count": 677,
   "id": "f0924474",
   "metadata": {},
   "outputs": [
    {
     "name": "stdout",
     "output_type": "stream",
     "text": [
      "                  Kernel       MAE  R2 Score\n",
      "0                 Linear  0.416619 -3.432168\n",
      "1                    RBF  0.102919  0.697580\n",
      "2  Polynomial (degree=2)  0.102622  0.650404\n",
      "3                Sigmoid  0.161736  0.206502\n"
     ]
    }
   ],
   "source": [
    "results=pd.DataFrame({\"Kernel\":[\"Linear\",\"RBF\",\"Polynomial (degree=2)\",\"Sigmoid\"],\n",
    "                      \"MAE\":[lin_mae,rbf_mae,poly2_mae,sigmoid_mae],\n",
    "                      \"R2 Score\":[lin_r2,rbf_r2,poly2_r2,sigmoid_r2]})\n",
    "print(results)"
   ]
  },
  {
   "cell_type": "code",
   "execution_count": 680,
   "id": "856dd749",
   "metadata": {},
   "outputs": [
    {
     "name": "stdout",
     "output_type": "stream",
     "text": [
      "Best parameters and R2 score for each kernel:\n",
      "Linear: {'C': 0.2, 'kernel': 'poly'} with R2 score: 0.37206652772292925\n",
      "Polynomial: {'C': 1, 'degree': 4, 'kernel': 'poly'} with R2 score: 0.5149701366261492\n",
      "RBF: {'C': 5, 'gamma': 'auto', 'kernel': 'rbf'} with R2 score: 0.4403417123400998\n"
     ]
    }
   ],
   "source": [
    "linear = {'kernel': ('linear', 'poly', 'rbf'), 'C': [300, 50, 20, 10, 5, 1, 0.8,0.2]}\n",
    "poly = {'kernel': ['poly'], 'C': [300, 50, 20, 10, 5, 1, 0.8, 0.2], 'degree': [2, 3, 4]}\n",
    "rbf = {'kernel': ['rbf'], 'C': [300, 50, 20, 10, 5, 1, 0.8, 0.2], 'gamma': ['scale', 'auto']}\n",
    "reg = SVR()\n",
    "grid_linear = GridSearchCV(reg, linear, cv=5, scoring='r2')\n",
    "grid_poly = GridSearchCV(reg, poly, cv=5, scoring='r2')\n",
    "grid_rbf = GridSearchCV(reg, rbf, cv=5, scoring='r2')\n",
    "\n",
    "\n",
    "grid_linear.fit(x, y)\n",
    "grid_poly.fit(x, y)\n",
    "grid_rbf.fit(x, y)\n",
    "\n",
    "\n",
    "best_kernel = max(grid_linear.best_score_, grid_poly.best_score_, grid_rbf.best_score_)\n",
    "print(\"Best parameters and R2 score for each kernel:\")\n",
    "for kernel in parameters['kernel']:\n",
    "    if kernel == 'linear':\n",
    "        print(f\"Linear: {grid_linear.best_params_} with R2 score: {grid_linear.best_score_}\")\n",
    "    elif kernel == 'poly':\n",
    "        print(f\"Polynomial: {grid_poly.best_params_} with R2 score: {grid_poly.best_score_}\")\n",
    "    else:\n",
    "        print(f\"RBF: {grid_rbf.best_params_} with R2 score: {grid_rbf.best_score_}\")\n"
   ]
  },
  {
   "cell_type": "code",
   "execution_count": 679,
   "id": "853564d3",
   "metadata": {},
   "outputs": [
    {
     "name": "stdout",
     "output_type": "stream",
     "text": [
      "Best kernel: Polynomial with parameters {'C': 1, 'degree': 4, 'kernel': 'poly'} and R2 score: 0.5149701366261492\n"
     ]
    }
   ],
   "source": [
    "best_kernel = max(grid_linear.best_score_, grid_poly.best_score_, grid_rbf.best_score_)\n",
    "if best_kernel == grid_linear.best_score_:\n",
    "    print(f\"Best kernel: Linear with parameters {grid_linear.best_params_} and R2 score: {best_kernel}\")\n",
    "elif best_kernel == grid_poly.best_score_:\n",
    "    print(f\"Best kernel: Polynomial with parameters {grid_poly.best_params_} and R2 score: {best_kernel}\")\n",
    "else:\n",
    "    print(f\"Best kernel: RBF with parameters {grid_rbf.best_params_} and R2 score: {best_kernel}\")"
   ]
  },
  {
   "cell_type": "code",
   "execution_count": null,
   "id": "387e3059",
   "metadata": {},
   "outputs": [],
   "source": []
  },
  {
   "cell_type": "code",
   "execution_count": null,
   "id": "15c9a15f",
   "metadata": {},
   "outputs": [],
   "source": []
  },
  {
   "cell_type": "code",
   "execution_count": null,
   "id": "206e17e0",
   "metadata": {},
   "outputs": [],
   "source": []
  }
 ],
 "metadata": {
  "kernelspec": {
   "display_name": "Python 3 (ipykernel)",
   "language": "python",
   "name": "python3"
  },
  "language_info": {
   "codemirror_mode": {
    "name": "ipython",
    "version": 3
   },
   "file_extension": ".py",
   "mimetype": "text/x-python",
   "name": "python",
   "nbconvert_exporter": "python",
   "pygments_lexer": "ipython3",
   "version": "3.10.9"
  }
 },
 "nbformat": 4,
 "nbformat_minor": 5
}
