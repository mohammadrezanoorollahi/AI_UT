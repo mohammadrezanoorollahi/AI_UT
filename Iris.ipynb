{
 "cells": [
  {
   "cell_type": "code",
   "execution_count": 110,
   "id": "4bd7b890",
   "metadata": {},
   "outputs": [],
   "source": [
    "import pandas as pd\n",
    "from sklearn.model_selection import train_test_split\n",
    "from sklearn.neighbors import KNeighborsClassifier\n",
    "from sklearn.metrics import confusion_matrix, accuracy_score, precision_score, recall_score, jaccard_score\n",
    "from sklearn.preprocessing import StandardScaler\n",
    "data = pd.read_csv('Iris.csv')\n",
    "\n"
   ]
  },
  {
   "cell_type": "code",
   "execution_count": 111,
   "id": "c3f58d82",
   "metadata": {},
   "outputs": [],
   "source": [
    "train_data, test_data, train_labels, test_labels = train_test_split(data.iloc[:, :-1], data.iloc[:, -1],\n",
    "                                                                    test_size=0.2, stratify=data.iloc[:, -1],random_state=30)\n",
    "knn = KNeighborsClassifier(n_neighbors=3)\n",
    "knn.fit(train_data, train_labels)\n",
    "predicted_labels = knn.predict(test_data)"
   ]
  },
  {
   "cell_type": "code",
   "execution_count": 112,
   "id": "c2f8c94f",
   "metadata": {},
   "outputs": [],
   "source": [
    "cm = confusion_matrix(test_labels, predicted_labels)\n",
    "acc = accuracy_score(test_labels, predicted_labels)\n",
    "prec = precision_score(test_labels, predicted_labels, average='macro')\n",
    "rec = recall_score(test_labels, predicted_labels, average='macro')\n",
    "jacc = jaccard_score(test_labels, predicted_labels, average='macro')"
   ]
  },
  {
   "cell_type": "code",
   "execution_count": 113,
   "id": "5a503a80",
   "metadata": {},
   "outputs": [
    {
     "name": "stdout",
     "output_type": "stream",
     "text": [
      "Confusion Matrix:\n",
      " [[10  0  0]\n",
      " [ 0 10  0]\n",
      " [ 0  1  9]]\n",
      "Accuracy: 0.9666666666666667\n",
      "Precision: 0.9696969696969697\n",
      "Recall: 0.9666666666666667\n",
      "Jaccard: 0.9363636363636364\n"
     ]
    }
   ],
   "source": [
    "print('Confusion Matrix:\\n', cm)\n",
    "print('Accuracy:', acc)\n",
    "print('Precision:', prec)\n",
    "print('Recall:', rec)\n",
    "print('Jaccard:', jacc)"
   ]
  },
  {
   "cell_type": "code",
   "execution_count": 114,
   "id": "6219714a",
   "metadata": {},
   "outputs": [],
   "source": [
    "scaler = StandardScaler()\n",
    "train_data2 = scaler.fit_transform(train_data)\n",
    "test_data2 = scaler.transform(test_data)"
   ]
  },
  {
   "cell_type": "code",
   "execution_count": 115,
   "id": "9d945073",
   "metadata": {},
   "outputs": [],
   "source": [
    "knn = KNeighborsClassifier(n_neighbors=3)\n",
    "knn.fit(train_data2, train_labels)\n",
    "predicted_labels2 = knn.predict(test_data2)\n"
   ]
  },
  {
   "cell_type": "code",
   "execution_count": 116,
   "id": "1cd022bc",
   "metadata": {},
   "outputs": [],
   "source": [
    "cm = confusion_matrix(test_labels, predicted_labels2)\n",
    "acc = accuracy_score(test_labels, predicted_labels2)\n",
    "prec = precision_score(test_labels, predicted_labels2, average='macro')\n",
    "rec = recall_score(test_labels, predicted_labels2, average='macro')\n",
    "jacc = jaccard_score(test_labels, predicted_labels2, average='macro')"
   ]
  },
  {
   "cell_type": "code",
   "execution_count": 117,
   "id": "e79f7252",
   "metadata": {
    "scrolled": true
   },
   "outputs": [
    {
     "name": "stdout",
     "output_type": "stream",
     "text": [
      "Confusion Matrix:\n",
      " [[10  0  0]\n",
      " [ 0 10  0]\n",
      " [ 0  2  8]]\n",
      "Accuracy: 0.9333333333333333\n",
      "Precision: 0.9444444444444445\n",
      "Recall: 0.9333333333333332\n",
      "Jaccard: 0.8777777777777779\n"
     ]
    }
   ],
   "source": [
    "print('Confusion Matrix:\\n', cm)\n",
    "print('Accuracy:', acc)\n",
    "print('Precision:', prec)\n",
    "print('Recall:', rec)\n",
    "print('Jaccard:', jacc)"
   ]
  },
  {
   "cell_type": "code",
   "execution_count": null,
   "id": "dd66014b",
   "metadata": {},
   "outputs": [],
   "source": []
  },
  {
   "cell_type": "code",
   "execution_count": null,
   "id": "b6ab6c09",
   "metadata": {},
   "outputs": [],
   "source": []
  },
  {
   "cell_type": "code",
   "execution_count": null,
   "id": "25c46194",
   "metadata": {},
   "outputs": [],
   "source": []
  },
  {
   "cell_type": "code",
   "execution_count": null,
   "id": "48c2a8f4",
   "metadata": {},
   "outputs": [],
   "source": []
  }
 ],
 "metadata": {
  "kernelspec": {
   "display_name": "Python 3 (ipykernel)",
   "language": "python",
   "name": "python3"
  },
  "language_info": {
   "codemirror_mode": {
    "name": "ipython",
    "version": 3
   },
   "file_extension": ".py",
   "mimetype": "text/x-python",
   "name": "python",
   "nbconvert_exporter": "python",
   "pygments_lexer": "ipython3",
   "version": "3.10.9"
  }
 },
 "nbformat": 4,
 "nbformat_minor": 5
}
